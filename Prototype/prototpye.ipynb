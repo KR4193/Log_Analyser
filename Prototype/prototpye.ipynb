{
 "cells": [
  {
   "cell_type": "markdown",
   "metadata": {},
   "source": [
    "## Package Installs"
   ]
  },
  {
   "cell_type": "code",
   "execution_count": 1,
   "metadata": {},
   "outputs": [],
   "source": [
    "%%capture\n",
    "%pip install sentence-transformers\n",
    "%pip install langchain_community\n",
    "%pip install openai\n",
    "%pip install faiss-cpu\n",
    "%pip install langchain_openai\n",
    "\n"
   ]
  },
  {
   "cell_type": "markdown",
   "metadata": {},
   "source": [
    "### Import Modules"
   ]
  },
  {
   "cell_type": "code",
   "execution_count": 2,
   "metadata": {},
   "outputs": [],
   "source": [
    "import os\n",
    "from openai import AzureOpenAI\n",
    "from langchain_community.document_loaders import TextLoader\n",
    "from langchain_huggingface import HuggingFaceEmbeddings\n",
    "from langchain_community.vectorstores import FAISS\n",
    "from langchain_text_splitters import CharacterTextSplitter\n",
    "from langchain.prompts import PromptTemplate\n",
    "from langchain_core.output_parsers import StrOutputParser\n",
    "from langchain_core.prompts import ChatPromptTemplate\n",
    "from langchain.chains import RetrievalQA\n",
    "from langchain.text_splitter import RecursiveCharacterTextSplitter\n",
    "import re"
   ]
  },
  {
   "cell_type": "markdown",
   "metadata": {},
   "source": [
    "## Connect to LLM"
   ]
  },
  {
   "cell_type": "code",
   "execution_count": 3,
   "metadata": {
    "scrolled": true
   },
   "outputs": [],
   "source": [
    "def connect():\n",
    "    client = AzureOpenAI(\n",
    "      azure_endpoint = os.getenv(\"AZURE_OPENAI_ENDPOINT\"), \n",
    "      api_key=os.getenv(\"AZURE_OPENAI_API_KEY\"),  \n",
    "      api_version=\"2024-02-01\"\n",
    "    )\n",
    "    assert client is not None, \"Failed to create AzureOpenAI client\"\n",
    "    return client\n"
   ]
  },
  {
   "cell_type": "markdown",
   "metadata": {},
   "source": [
    "## File and Database Paths"
   ]
  },
  {
   "cell_type": "code",
   "execution_count": 4,
   "metadata": {},
   "outputs": [],
   "source": [
    "# dirty_log_file = \"C:/Users/kr4193/Desktop/Log_error_reporter/Prep_work/clean_Geiger_for_LLMs.log\"\n",
    "dirty_log_file = \"C:/Users/kr4193/Desktop/Log_error_reporter/Prep_work/SMOKE-ZSB-DP12-002.log\"\n",
    "# dirty_log_file = \"C:/Users/kr4193/Desktop/Log_error_reporter/Prep_work/cmdexec.log\"\n",
    "# dirty_log_file = \"C:/Users/kr4193/Desktop/Log_error_reporter/Prep_work/zt3.log\"\n",
    "# dirty_log_file = \"C:/Users/kr4193/Desktop/Log_error_reporter/Prep_work/data_for_karthik.txt\"\n",
    "log_file_path = \"C:/Users/kr4193/Desktop/Log_error_reporter/Prototype/clean.log\"\n",
    "embedding_model = \"all-MiniLM-L6-v2\"\n",
    "database_name = \"sample_db\""
   ]
  },
  {
   "cell_type": "markdown",
   "metadata": {},
   "source": [
    "## Data Cleaning"
   ]
  },
  {
   "cell_type": "code",
   "execution_count": 5,
   "metadata": {},
   "outputs": [
    {
     "name": "stdout",
     "output_type": "stream",
     "text": [
      "{'ClassicBT': ['not_discoverable'], 'BasicTests': ['advertising', 'pairing_mode'], 'BluetoothLocalNameTest': ['local_name_on_zsb_p22u', 'local_name_on_zsb_p42e', 'local_name_on_zsb_p12n', 'local_name_on_zsb_p22e', 'local_name_on_zsb_p12u', 'local_name_on_zsb_p22n', 'local_name_on_zsb_p32n', 'local_name_on_zsb_p52u', 'le_gap_local_name_write', 'local_name_on_zsb_p12e'], 'ManufacturingModeTests': ['discoverable_and_pairable'], 'PairingTests': ['command_pairable_duration', 'command_pair', 'unpairable', 'unpairable_after_reboot']}\n"
     ]
    }
   ],
   "source": [
    "with open(dirty_log_file, 'r') as file:\n",
    "    lines = file.readlines()\n",
    "\n",
    "def process_line(line):\n",
    "    # Match and capture everything after 'D:' or 'I:'\n",
    "    match = re.search(r'[DI]:\\s*(.*)', line)\n",
    "    if match:\n",
    "        return match.group(1).strip()  # Return the captured group, stripped of leading/trailing whitespace\n",
    "    return line.strip()  # If no match, return the line as is\n",
    "\n",
    "current_suite = None\n",
    "current_module = None\n",
    "current_test = None\n",
    "ans = None\n",
    "suites = []\n",
    "inbetween = []\n",
    "failures = []\n",
    "to_retrieve = []\n",
    "log = []\n",
    "previous_line = None  # Initialize previous_line variable\n",
    "suite_test_cases = {}  # Dictionary to store suite name as key and failed/error test cases as values\n",
    "\n",
    "with open(log_file_path, 'w') as output_file:\n",
    "    for line in lines:\n",
    "        line = process_line(line)\n",
    "\n",
    "        # Check for suite start\n",
    "        suite_match = re.search(r'Entering suite: (\\w+)', line)\n",
    "        if suite_match:\n",
    "            current_suite = suite_match.group(1)\n",
    "            suites.append(current_suite)\n",
    "            suite_test_cases[current_suite] = []  # Initialize list for test cases\n",
    "            continue\n",
    "\n",
    "        # Check for module start\n",
    "        module_match = re.search(r' Execute module', line)\n",
    "        if module_match:\n",
    "            current_module = module_match.group(1)\n",
    "            continue\n",
    "\n",
    "        # Check for test start\n",
    "        test_start_match = re.search(r'Running test: (\\w+)', line)\n",
    "        if test_start_match:\n",
    "            current_test = test_start_match.group(1)\n",
    "            continue\n",
    "\n",
    "        # Check for test outcome\n",
    "        test_outcome_match = re.search(r'test outcome\\s*:\\s*(\\w+)', line, re.IGNORECASE)\n",
    "        if test_outcome_match:\n",
    "            result = test_outcome_match.group(1).lower()\n",
    "            if result in ['failed', 'error']:\n",
    "                if current_suite and current_test:\n",
    "                    suite_test_cases[current_suite].append(current_test)\n",
    "                    for line in inbetween:\n",
    "                        output_file.write(line + '\\n')\n",
    "                    log.append(inbetween)\n",
    "                    inbetween.clear()\n",
    "            current_test = None  # Reset current test\n",
    "            continue\n",
    "\n",
    "        # Check for failure\n",
    "        failure_match = re.search(r'(failed)', line, re.IGNORECASE)\n",
    "        if failure_match:\n",
    "            if current_suite and current_module:\n",
    "                failures.append((suite_match, module_match, line.strip()))\n",
    "\n",
    "        # Check for the end of the suite and the result\n",
    "        if current_suite:\n",
    "            suite_end_match = re.search(r'^Suite', line)\n",
    "            if suite_end_match:\n",
    "                result, suite = line.split(\" \")[-1], line.split(\" \")[-2]\n",
    "                suite_end_match = None\n",
    "                if result == 'failed' or result == 'error':\n",
    "                    to_retrieve.append(suite[:-1])\n",
    "                    # for line in inbetween:\n",
    "                    #     output_file.write(line + '\\n')\n",
    "                    # log.append(inbetween)\n",
    "                    suites.remove(suite[:-1])\n",
    "                else:\n",
    "                    suites.remove(suite[:-1])\n",
    "            if len(suites) == 0:\n",
    "                inbetween.clear()\n",
    "\n",
    "        # Check if the current line is the same as the previous line\n",
    "        if line != previous_line:\n",
    "            inbetween.append(line)\n",
    "        previous_line = line  # Update previous_line\n",
    "\n",
    "# Filter out suites with no failed/error test cases\n",
    "suite_test_cases = {\n",
    "    suite: list(set(test_cases))  # Convert to set and back to list to ensure uniqueness\n",
    "    for suite, test_cases in suite_test_cases.items()\n",
    "    if test_cases  # Ensure the test_cases list is not empty\n",
    "}\n",
    "\n",
    "\n",
    "print(suite_test_cases)\n"
   ]
  },
  {
   "cell_type": "markdown",
   "metadata": {},
   "source": [
    "### Generate Chunks and splitting the documents"
   ]
  },
  {
   "cell_type": "code",
   "execution_count": 6,
   "metadata": {},
   "outputs": [],
   "source": [
    "def generate_chunks(filename):\n",
    "    data = []\n",
    "    final_chunk = []\n",
    "\n",
    "    loader = TextLoader(filename, encoding=\"utf-8\")\n",
    "    rawdata = loader.load()\n",
    "    if rawdata:\n",
    "        text_splitter = CharacterTextSplitter(separator = \"\\n\",length_function = len, chunk_size=5000, chunk_overlap=100)\n",
    "        \n",
    "        data = text_splitter.split_documents(rawdata)\n",
    "        print(len(data))\n",
    "        if data:\n",
    "            print(f\"generate_chunks - {filename}\")\n",
    "            final_chunk += data\n",
    "        else:\n",
    "            print(f\"generate_chunks - data is None\")\n",
    "    else:\n",
    "        print(f\"generate_chunks - rawdata is None\")\n",
    "\n",
    "    print(f\"{filename} data chunks ready for embedding\")\n",
    "\n",
    "        # Add more conditions for other file types if needed\n",
    "    print(\"prepare_data_chunks: finished\")\n",
    "    return final_chunk"
   ]
  },
  {
   "cell_type": "markdown",
   "metadata": {},
   "source": [
    "### Create and Load the Vector DB"
   ]
  },
  {
   "cell_type": "code",
   "execution_count": 7,
   "metadata": {},
   "outputs": [],
   "source": [
    "def create_vectordb(filepath, databasename):\n",
    "    data = generate_chunks(filepath)\n",
    "    if data:\n",
    "        print(f\"Starting to create {filepath} ...\")\n",
    "        embeddings = HuggingFaceEmbeddings(model_name=embedding_model)\n",
    "        print(f\"embedding : {embeddings}\")\n",
    "        if embeddings:\n",
    "            vdatabase = FAISS.from_documents(data, embeddings)\n",
    "            vdatabase.save_local(databasename)\n",
    "            print(f\" vectordatabase {databasename} ready...\")\n",
    "        else:\n",
    "            print(f\"Empty Embeddings\")\n",
    "        return vdatabase\n",
    "    else:\n",
    "        print(\"chunk data received is null, exiting database creation\")\n",
    "        return None"
   ]
  },
  {
   "cell_type": "code",
   "execution_count": 8,
   "metadata": {},
   "outputs": [],
   "source": [
    "def load_vector_db(embedding_model_name, vector_db_name):\n",
    "    print(f\" Loading {vector_db_name} ...\")\n",
    "    if os.path.exists(vector_db_name):\n",
    "        print(f\" database {vector_db_name} present!!\")\n",
    "        embeddings = HuggingFaceEmbeddings(model_name=embedding_model_name)\n",
    "        if embeddings:\n",
    "            vector_db = FAISS.load_local(vector_db_name, embeddings, allow_dangerous_deserialization=True)\n",
    "            print(f\" Loading {vector_db_name} Done!!\")\n",
    "        else:\n",
    "            print(f\"Empty Embeddings\")\n",
    "    else:\n",
    "        print(f\" No file path found for {vector_db_name}..\")\n",
    "    return vector_db"
   ]
  },
  {
   "cell_type": "markdown",
   "metadata": {},
   "source": [
    "### Retriever"
   ]
  },
  {
   "cell_type": "markdown",
   "metadata": {},
   "source": [
    "file_path = \n",
    "def read_python_file(file_path):\n",
    "    with open(file_path, 'r') as file:\n",
    "        return file.read()"
   ]
  },
  {
   "cell_type": "markdown",
   "metadata": {},
   "source": [
    "## Prompt template"
   ]
  },
  {
   "cell_type": "code",
   "execution_count": 9,
   "metadata": {},
   "outputs": [],
   "source": [
    "prompt_template = PromptTemplate(\n",
    "    input_variables=[\"context\", \"question\"],\n",
    "    template=\"\"\"\n",
    "    You are a helpful assistant. Use the following context to answer the question.\n",
    "    Context: {context}\n",
    "    Question: {question}\n",
    "    \"\"\"\n",
    ")"
   ]
  },
  {
   "cell_type": "markdown",
   "metadata": {},
   "source": [
    "### Chain"
   ]
  },
  {
   "cell_type": "code",
   "execution_count": 10,
   "metadata": {},
   "outputs": [],
   "source": [
    "def qa_bot():\n",
    "    vectordb = get_retriever()\n",
    "    retriever = vectordb.as_retriver(search_kwargs = {\"k\":10})\n",
    "    query = \"What is the error in the log file?\"\n",
    "    while query != \"quit\":\n",
    "        query = input(\"Enter your query: \")\n",
    "        output = chain.invoke(query)\n",
    "        print(output)\n",
    "    qa_bot()\n",
    "    \n"
   ]
  },
  {
   "cell_type": "markdown",
   "metadata": {},
   "source": [
    "## Main function"
   ]
  },
  {
   "cell_type": "code",
   "execution_count": 11,
   "metadata": {
    "scrolled": true
   },
   "outputs": [],
   "source": [
    "# Press the green button in the gutter to run the script.\n",
    "# if __name__ == '__main__':\n",
    "def retriever_fn(test_suite,test_case, vector_db):\n",
    "    \n",
    "    \n",
    "    # Initialze the retriver with retrieval method\n",
    "    #retriever = jira_vector_db.as_retriever(search_type=\"similarity_score_threshold\", search_kwargs={\"score_threshold\": 0.1})\n",
    "\n",
    "    #search_type - mmr :- \n",
    "    retriever = vector_db.as_retriever( search_type = \"mmr\", search_kwargs={\"k\":3,\"score_threshold\": 0.4})\n",
    "    # search_type=\"mmr\",\n",
    "    # Query the database to get symantical search output\n",
    "    retrieved_output = retriever.invoke(f\"Information on test case {test_case}\")\n",
    "    # print(f\"retrieved_output: {retrieved_output}\")\n",
    "    # print(f\"vectordb ready\")\n",
    "    return retrieved_output"
   ]
  },
  {
   "cell_type": "code",
   "execution_count": 12,
   "metadata": {},
   "outputs": [],
   "source": [
    "def final(retrieved_output,test_suite,test_case):\n",
    "    client = connect()\n",
    "    # print(retrieved_output)\n",
    "    response = client.chat.completions.create(\n",
    "            model=\"gpt-4o\", # model = \"deployment_name\".\n",
    "            messages = [\n",
    "            {\n",
    "                \"role\": \"system\",\n",
    "                \"content\": (\n",
    "                    \"You are a helpful assistant. If you are not sure about the answer reply with I dont know\"\n",
    "                    \"Always identify and classify failed and error tests into one of the three categories: Product issue, ATF Script Issues, and Setup issues. \"\n",
    "                    \"Product issue are Errors or glitches in the software that can cause the product to malfunction  \"\n",
    "                    \"Setup issues are issues with the test environment-  network or bluetooth connectivity issues, configuration issues\"\n",
    "                    \"Classify with the help of the log entry that is provided\"\n",
    "                    \"The format of tests is as follows: Test Suites -> Test Cases. Test cases are the lowest level of granularity. \"\n",
    "                    #\"Test Suites start with the line 'Entering suites: <suitename>' and end with 'Suite <suitename> <result>'. \"\n",
    "                    #\"Test Modules start with 'Execute module: <module_name>'.Always ignore test suites with result of  passed or skipped.Always ignore test cases with result of  passed or skipped.  \"\n",
    "                    \"Test Cases start with the line 'Running test: <test_name>' and end with the line '<test_name>: <result>'.\"\n",
    "                    \"You will be given the name of the test suite and test case name first. Then you will be given the relevant logs\"\n",
    "                    \"Provide the output in the following structure without using triple quotes or the word 'json':{ \\\"test_suite\\\": \\\"\\\", \\\"test_case\\\": \\\"\\\", \\\"test_description\\\": \\\"\\\", \\\"classification\\\": \\\"\\\", \\\"reasoning\\\": \\\"\\\" }. \"\n",
    "                    \"List your reasoning for each test case in less than 300 words about why you classified the test case into the category.\"\n",
    "                    \n",
    "                )\n",
    "            },\n",
    "            # {\n",
    "            #     \"role\": \"user\",\n",
    "            #     \"content\": f\"Here is the script that was used to run the test: {retrieved_output}\"\n",
    "            # },\n",
    "            {\n",
    "                \"role\": \"user\",\n",
    "                \"content\": (\n",
    "                    f'the test suit is {test_suite}'\n",
    "                    f'the test case is {test_case}'\n",
    "                    f'Here is a log entry for analysis:\\n{retrieved_output}\\n\\n'\n",
    "                    \n",
    "                )\n",
    "            },\n",
    "        ])\n",
    "        \n",
    "    print(response.choices[0].message.content)\n",
    "    with open(\"output_context.txt\", \"a\") as output_file:\n",
    "        output_file.write(response.choices[0].message.content)"
   ]
  },
  {
   "cell_type": "code",
   "execution_count": 13,
   "metadata": {
    "scrolled": true
   },
   "outputs": [
    {
     "name": "stdout",
     "output_type": "stream",
     "text": [
      "96\n",
      "generate_chunks - C:/Users/kr4193/Desktop/Log_error_reporter/Prototype/clean.log\n",
      "C:/Users/kr4193/Desktop/Log_error_reporter/Prototype/clean.log data chunks ready for embedding\n",
      "prepare_data_chunks: finished\n",
      "Starting to create C:/Users/kr4193/Desktop/Log_error_reporter/Prototype/clean.log ...\n",
      "embedding : model_name='all-MiniLM-L6-v2' cache_folder=None model_kwargs={} encode_kwargs={} multi_process=False show_progress=False\n",
      " vectordatabase sample_db ready...\n",
      " Loading sample_db ...\n",
      " database sample_db present!!\n",
      " Loading sample_db Done!!\n"
     ]
    }
   ],
   "source": [
    "# Create vector data base\n",
    "local_vectordb = create_vectordb(log_file_path, database_name)\n",
    "\n",
    "# Load existing database using db name\n",
    "vector_db = load_vector_db(embedding_model, database_name)\n",
    "# for suite in to_retrieve:\n",
    "#     final(retriever_fn(suite,vector_db))\n",
    "with open(\"output_context.txt\", \"w\") as output_file:\n",
    "    pass\n"
   ]
  },
  {
   "cell_type": "code",
   "execution_count": 14,
   "metadata": {},
   "outputs": [
    {
     "name": "stdout",
     "output_type": "stream",
     "text": [
      "{\n",
      "  \"test_suite\": \"ClassicBT\",\n",
      "  \"test_case\": \"not_discoverable\",\n",
      "  \"test_description\": \"This test case aims to verify that the Classic Bluetooth device is not discoverable.\",\n",
      "  \"classification\": \"Setup issues\",\n",
      "  \"reasoning\": \"The logs indicate a timeout when waiting for a response to the discovery management request, followed by multiple attempts to start a Bluetooth session that failed due to the inability to discover the RFCOMM channel. This suggests a possible issue with the test environment such as network or Bluetooth connectivity problems, rather than a defect in the product or the ATF script itself.\"\n",
      "}\n",
      "{ \n",
      "  \"test_suite\": \"BasicTests\", \n",
      "  \"test_case\": \"advertising\", \n",
      "  \"test_description\": \"Long running operation error: Unhandled exception: BluetoothTimeoutError: Timed out waiting for response to start discovery mgmt request and Error connecting on attempt: Error starting BT session: Failed to discover RFCOMM channel\", \n",
      "  \"classification\": \"Setup issues\", \n",
      "  \"reasoning\": \"The log indicates issues with the Bluetooth connection setup, specifically a timeout waiting for a response and failure to discover RFCOMM channel. These issues suggest problems with the test environment or network/bluetooth connectivity which falls under setup issues.\" \n",
      "}\n",
      "{ \n",
      "  \"test_suite\": \"BasicTests\", \n",
      "  \"test_case\": \"pairing_mode\", \n",
      "  \"test_description\": \"This test case involves enabling limited pairing mode and attempting to pair with the device 48:A4:93:8B:20:7F.\", \n",
      "  \"classification\": \"Setup issue\", \n",
      "  \"reasoning\": \"The logs show multiple occurrences of HTTP 404 errors when trying to access '/pairings/LE/48:A4:93:8B:20:7F' and '/agent/pending/LE/48:A4:93:8B:20:7F', indicating that the device could not be found or the pairing setup is incorrect. There are also failed attempts to connect to the client 'DCJ211700203933F425DD781061D01233EDED8A99EDDDE', showing network or environment issues.\" \n",
      "}\n",
      "{ \n",
      "  \"test_suite\": \"BluetoothLocalNameTest\", \n",
      "  \"test_case\": \"local_name_on_zsb_p22u\", \n",
      "  \"test_description\": \"Attempt to run Bluetooth local name test on ZSB-DP52U machine leading to connection errors and test skipped due to incompatible printer width.\", \n",
      "  \"classification\": \"Setup issues\", \n",
      "  \"reasoning\": \"The log indicates that the test was skipped due to the DUT width being incompatible with the test's design which is intended for 2.25 inch printers, while encountering multiple connection issues with weblink under client_id_DCJ211700203933F425DD781061D01233EDED8A99EDDDE. The failed attempts to re-connect signify setup-related issues such as network configuration or connectivity problems.\" \n",
      "}\n",
      "{ \n",
      "  \"test_suite\": \"BluetoothLocalNameTest\", \n",
      "  \"test_case\": \"local_name_on_zsb_p42e\", \n",
      "  \"test_description\": \"Changing the local Bluetooth name for the printer model ZSB-DP42E.\", \n",
      "  \"classification\": \"Setup issues\", \n",
      "  \"reasoning\": \"The log indicates several failed attempts to connect to the weblink server, with the error '[Errno 111] No matching connections found for client_id'. These repeated connection failures suggest issues with the test environment or network connectivity, not with the product or test script itself.\" \n",
      "}\n",
      "{\n",
      "  \"test_suite\": \"BluetoothLocalNameTest\",\n",
      "  \"test_case\": \"local_name_on_zsb_p12n\",\n",
      "  \"test_description\": \"Attempting to run tests for Bluetooth local name functionality on printer models with different widths and trying to connect over Weblink.\",\n",
      "  \"classification\": \"Setup issue\",\n",
      "  \"reasoning\": \"The log shows multiple unsuccessful attempts to connect to the specified Weblink client ID, resulting in error 'No matching connections found for client_id=DCJ211700203933F425DD781061D01233EDED8A99EDDDE.' This suggests a problem with the test environment and network setup rather than an issue with the product itself or the test script. Additionally, it also indicates that the DUT width does not match the test requirements initially, which further supports the classification as setup issues.\"\n",
      "}\n",
      "{\n",
      "  \"test_suite\": \"BluetoothLocalNameTest\",\n",
      "  \"test_case\": \"local_name_on_zsb_p22e\",\n",
      "  \"test_description\": \"Testing the local Bluetooth name functionality on ZSB P22E device.\",\n",
      "  \"classification\": \"Setup issues\",\n",
      "  \"reasoning\": \"The logs indicate repeated failures to connect to the required channel `v1.jrpc.zebra.com` using the client ID `DCJ211700203933F425DD781061D01233EDED8A99EDDDE`. This points to issues with the network connectivity or configuration, which are typical for setup issues.\"\n",
      "}\n",
      "{\n",
      "  \"test_suite\": \"BluetoothLocalNameTest\",\n",
      "  \"test_case\": \"local_name_on_zsb_p12u\",\n",
      "  \"test_description\": \"Test skipped: DUT width is 2.25; This test is not designed for 4 inch printers.\",\n",
      "  \"classification\": \"Setup issues\",\n",
      "  \"reasoning\": \"The log indicates that the test was skipped because the DUT width is 2.25 inches, and the test is designed for 4-inch printers. This means that the test environment was not correctly configured for the requirements of the test, hence it falls under setup issues.\"\n",
      "}\n",
      "{ \n",
      "  \"test_suite\": \"BluetoothLocalNameTest\", \n",
      "  \"test_case\": \"local_name_on_zsb_p22n\", \n",
      "  \"test_description\": \"The test case encountered issues while trying to connect to weblink client repeatedly.\", \n",
      "  \"classification\": \"Setup issue\", \n",
      "  \"reasoning\": \"The log indicates repeated failure to connect to the weblink client due to 'No matching connections found for client_id'. This suggests an issue with the network connectivity or configuration in the test environment rather than a product or script issue.\" \n",
      "}\n",
      "{\n",
      "    \"test_suite\": \"BluetoothLocalNameTest\",\n",
      "    \"test_case\": \"local_name_on_zsb_p32n\",\n",
      "    \"test_description\": \"Testing local name on ZSB model p32n printer\",\n",
      "    \"classification\": \"Setup issues\",\n",
      "    \"reasoning\": \"The logs indicate multiple connection attempts to the specified weblink and Bluetooth addresses, all failing with the error 'No matching connections found' and 'Failed to discover RFCOMM channel'. This suggests issues with network or Bluetooth connectivity, possibly due to misconfigurations or disruptions in the test environment.\"\n",
      "}\n",
      "{ \n",
      "  \"test_suite\": \"BluetoothLocalNameTest\", \n",
      "  \"test_case\": \"local_name_on_zsb_p52u\", \n",
      "  \"test_description\": \"Connecting to the weblink server after rebooting the printer.\", \n",
      "  \"classification\": \"Setup issues\", \n",
      "  \"reasoning\": \"The logs indicate multiple unsuccessful attempts to connect to the weblink server (v1.jrpc.zebra.com) using client ID DCJ211700203933F425DD781061D01233EDED8A99EDDDE. Each attempt results in an 'Error connecting' message indicating 'No matching connections found.' This suggests a connectivity or configuration issue in the test environment, not a failure in the test script or product functionality.\" \n",
      "}\n",
      "{ \n",
      "  \"test_suite\": \"BluetoothLocalNameTest\", \n",
      "  \"test_case\": \"le_gap_local_name_write\", \n",
      "  \"test_description\": \"Test execution of setting the local name via Bluetooth GAP\", \n",
      "  \"classification\": \"Setup issue\", \n",
      "  \"reasoning\": \"The failure log entries indicate multiple connection attempts to the weblink server, all of which resulted in errors due to no matching connections found for the specified client_id and channel_name. This suggests a failure in network connectivity or server configuration during the test setup phase. Thus, it's classified as a setup issue.\"\n",
      "}\n",
      "{\n",
      "    \"test_suite\": \"BluetoothLocalNameTest\",\n",
      "    \"test_case\": \"local_name_on_zsb_p12e\",\n",
      "    \"test_description\": \"The test is aimed to check the local name of the Bluetooth setup on the device.\",\n",
      "    \"classification\": \"Setup issues\",\n",
      "    \"reasoning\": \"The log shows a series of failed attempts to connect to the weblink service with the specified client_id and server_id. The connection issue appears to be related to the network, failing after multiple attempts to reconnect. This points to a setup issue, specifically network connectivity problems affecting the test environment.\"\n",
      "}\n",
      "{\n",
      "  \"test_suite\": \"ManufacturingModeTests\",\n",
      "  \"test_case\": \"discoverable_and_pairable\",\n",
      "  \"test_description\": \"Ensure the device is discoverable and pairable via Bluetooth during manufacturing mode test\",\n",
      "  \"classification\": \"Setup issues\",\n",
      "  \"reasoning\": \"The log indicates that the connection attempts failed repeatedly with errors like 'Client not found' and 'No matching connections'. These errors are related to network or Bluetooth connectivity issues rather than the product or script. This suggests problems with the test environment setup.\"\n",
      "}\n",
      "{\n",
      "    \"test_suite\": \"PairingTests\",\n",
      "    \"test_case\": \"command_pairable_duration\",\n",
      "    \"test_description\": \"Test to validate the duration for which a device remains pairable.\",\n",
      "    \"classification\": \"Setup issues\",\n",
      "    \"reasoning\": \"The test log indicates repeated attempts to connect to the server and the device, with many 'Already connected' messages followed by disconnection events. The final error points to a 'BluetoothTimeoutError' due to a timeout waiting for a response to start the discovery management request. This suggests issues in network connectivity or device configuration, which falls under setup issues.\"\n",
      "}\n",
      "{ \n",
      "  \"test_suite\": \"PairingTests\", \n",
      "  \"test_case\": \"command_pair\", \n",
      "  \"test_description\": \"The test case attempts to pair a device using Bluetooth. The log indicates multiple attempts to start a Bluetooth session and discover an RFCOMM channel but fails.\", \n",
      "  \"classification\": \"Setup issues\", \n",
      "  \"reasoning\": \"The error 'Failed to discover RFCOMM channel' suggests a problem with the Bluetooth connectivity or configuration in the test environment. This is consistent across multiple attempts indicating that the issue is likely not with the test script or the product but rather with the setup.\" \n",
      "}\n",
      "{\n",
      "  \"test_suite\": \"PairingTests\",\n",
      "  \"test_case\": \"unpairable\",\n",
      "  \"test_description\": \"The test attempts to pair a device via Bluetooth but fails to discover the RFCOMM channel required for Bluetooth communication.\",\n",
      "  \"classification\": \"Setup issue\",\n",
      "  \"reasoning\": \"The logs indicate repeated attempts to connect to the device but consistently result in errors due to a failure to discover an RFCOMM channel. This suggests problems with the test environment or the configuration of the Bluetooth connections, rather than an issue with the test script or the product itself.\"\n",
      "}\n",
      "{ \n",
      "  \"test_suite\": \"PairingTests\", \n",
      "  \"test_case\": \"unpairable_after_reboot\", \n",
      "  \"test_description\": \"Checks if the device remains unpairable after a reboot.\", \n",
      "  \"classification\": \"Setup issues\", \n",
      "  \"reasoning\": \"The test case log indicates repeated attempts to reconnect the device failed due to 'No matching connections found for client_id'. This suggests the connection was lost due to setup issues in the test environment, which could include network or Bluetooth connectivity problems or configuration issues post-reboot.\" \n",
      "}\n"
     ]
    }
   ],
   "source": [
    "for key in suite_test_cases:\n",
    "    for i in range(len(suite_test_cases[key])):\n",
    "        final(retriever_fn(key,suite_test_cases[key][i],vector_db),key,suite_test_cases[key][i])\n"
   ]
  },
  {
   "cell_type": "code",
   "execution_count": 15,
   "metadata": {
    "scrolled": true
   },
   "outputs": [
    {
     "name": "stdout",
     "output_type": "stream",
     "text": [
      " * Serving Flask app 'app'\n",
      " * Debug mode: on\n"
     ]
    },
    {
     "name": "stderr",
     "output_type": "stream",
     "text": [
      "WARNING: This is a development server. Do not use it in a production deployment. Use a production WSGI server instead.\n",
      " * Running on http://127.0.0.1:5000\n",
      "Press CTRL+C to quit\n",
      " * Restarting with watchdog (windowsapi)\n"
     ]
    },
    {
     "ename": "SystemExit",
     "evalue": "1",
     "output_type": "error",
     "traceback": [
      "An exception has occurred, use %tb to see the full traceback.\n",
      "\u001b[1;31mSystemExit\u001b[0m\u001b[1;31m:\u001b[0m 1\n"
     ]
    }
   ],
   "source": [
    "%run app.py"
   ]
  },
  {
   "cell_type": "code",
   "execution_count": null,
   "metadata": {},
   "outputs": [],
   "source": []
  }
 ],
 "metadata": {
  "kernelspec": {
   "display_name": "Python 3 (ipykernel)",
   "language": "python",
   "name": "python3"
  },
  "language_info": {
   "codemirror_mode": {
    "name": "ipython",
    "version": 3
   },
   "file_extension": ".py",
   "mimetype": "text/x-python",
   "name": "python",
   "nbconvert_exporter": "python",
   "pygments_lexer": "ipython3",
   "version": "3.12.7"
  }
 },
 "nbformat": 4,
 "nbformat_minor": 4
}
