{
 "cells": [
  {
   "cell_type": "code",
   "execution_count": 5,
   "id": "00034390-ddf6-4a58-ad30-61900c7991f6",
   "metadata": {},
   "outputs": [],
   "source": [
    "import re"
   ]
  },
  {
   "cell_type": "code",
   "execution_count": 6,
   "id": "ed94b629-d587-49e6-a139-35e1b4a0ac03",
   "metadata": {},
   "outputs": [],
   "source": [
    "dirty_log_file = \"C:/Users/kr4193/Desktop/Log_error_reporter/Prep_work/cmdexec.log\"\n",
    "log_file_path =  \"C:/Users/kr4193/Desktop/Log_error_reporter/Prep_work/delete.log\""
   ]
  },
  {
   "cell_type": "code",
   "execution_count": 8,
   "id": "905955d2-283b-4f3f-927d-452762c2a3d0",
   "metadata": {},
   "outputs": [
    {
     "name": "stdout",
     "output_type": "stream",
     "text": [
      "{'Enterprise8021x': ['client_required_capable_positive', 'client_enabled_required_positive', 'client_enabled_capable_positive', 'client_required_required_positive', 'client_disabled_disabled_positive', 'client_disabled_capable_positive', 'client_enabled_disabled_positive'], 'PmfStates': ['client_enabled_wpa2_psk_pmf_disabled_ess_positive', 'client_required_wpa2_psk_pmf_required_ess_positive', 'client_enabled_wpa2_psk_pmf_optional_ess_positive', 'client_disabled_wpa2_psk_pmf_optional_ess_positive', 'client_enabled_wpa2_psk_pmf_required_ess_positive', 'client_disabled_wpa2_psk_pmf_disabled_ess_positive'], 'RoamSweep': ['wpa3', 'open_2', 'open_5GHz_ps', 'wpa2'], 'SecuritySweep': ['wpa2_eap_tls_11r', 'wpa3_eap_ttls_aruba_clearpass', 'wpa3_sae_11r', 'wpa_mixed_mode_12_eap_tls', 'wpa1_eap_ttls_pap', 'wpa2_eap_tls', 'wpa_mixed_mode_23_eap_tls', 'owe_open', 'open_hidden_dfs', 'wpa3_sae', 'wpa2_peap', 'wpa_psk_mixed_mode_23', 'wpa3_eap_tls_aruba_clearpass', 'open_hidden_non_dfs', 'wpa3_eap_ttls_pap', 'wpa3_eap_ttls_cisco_ise', 'wpa1_eap_tls', 'wpa2_psk_pmf_optional', 'wpa2_psk_pmf_required', 'wpa3_psk', 'wpa_psk_mixed_mode_12', 'wpa2_eap_ttls_pap', 'wpa3_eap_tls', 'wpa2_eap_ttls_rsa4096_sha256', 'wpa3_peap_aruba_clearpass', 'wpa2_psk_pmf_disabled', 'wpa3_eap_fast_cisco_ise', 'wpa2_psk_11r', 'wpa1_peap', 'wpa3_psk_11r', 'wpa3_peap', 'wpa3_eap_tls_11r', 'wpa3_eap_tls_cisco_ise'], 'WpaSaePassPhrase': ['caret_wx_wpa3_sae'], 'NegativeAssociationTests': ['no_associate_to_enterprise_network_when_in_psk_mode', 'no_associate_to_psk_network_when_in_enterprise_mode', 'no_associate_to_wpa3_sae_only_network_when_in_psk_mode', 'associate_to_aes_with_tkip_available'], 'FCCTests': ['fcc_enable'], 'TestChannelConfigurations': ['ALL', '2GHz', '5GHz'], 'WlanTtlsAnonymousIdentity': ['sgd_set_max', 'sgd_set_min', 'sgd_set_get_snmp', 'sgd_val_persistence', 'sgd_restore_default', 'ttls_peap_anonymous_identity', 'sgd_json_attribute_default', 'sgd_set'], 'RegulatoryDatabaseVersionTests': ['same_schema_newer_version'], 'TestDebuggingTools': ['wpa_supp_log'], 'WlanUserNameSGDTests': ['check_sgd_range_wlan'], 'WlanSecuritySgdTests': ['wpa_sae_integer_alias', 'wpa_peap_caret_wx13_alias', 'wpa_eap_tls_integer_alias', 'wpa_eap_fast_integer_alias', 'wpa_eap_tls', 'wpa_eap_fast_snmp', 'wpa_eap_fast_caret_wx12_alias', 'none', 'wpa_eap_tls_snmp', 'wpa_sae_caret_wx17_alias', 'wpa_sae_settable', 'wpa_peap_integer_alias', 'none_snmp', 'wpa_eap_tls_caret_wx10_alias', 'wpa_eap_ttls_integer_alias', 'wpa_eap_ttls', 'wpa_eap_ttls_snmp', 'none_integer_alias', 'wpa_eap_ttls_caret_wx11_alias', 'wpa_sae_snmp', 'wpa_eap_fast', 'wpa_peap_snmp', 'wpa_peap', 'none_caret_wx1_alias'], 'WlanSwitchTests': ['switch_wlan_in_pmf_requried', 'switch_wlan_in_pmf_enabled', 'switch_wlan_in_pmf_disabled'], 'ThroughputTests': ['5_ghz_open_ess_security_power_save_on', '2', '5_ghz_wpa', '5_ghz_open_ess_security_power_save_off'], 'RTCTests': ['reboot_persistence', 'approaching_leap_year', 'set_by_build_sgd_disabled', 'field_clock_time_zpl', 'match_timestamp_offset', 'non_leap_year_support', 'field_clock_date_zpl'], 'NtpServerTests': ['10m_ahead_update', '15m_ahead_update', 'behind_update', 'far_ahead_update'], 'SimpleNtpTests': ['behind_update_reboot', 'time_behind_network_reset', 'time_ahead_network_reset', 'time_ahead_reboot'], 'SaeConnectionMenuTests': ['set_wpa_sae_sgd', 'set_wpa_sae_ui', 'wifi_security_option_list'], 'SaeConnectionWizardTests': ['set_wpa_sae_wizard', 'wifi_security_option_list']}\n"
     ]
    }
   ],
   "source": [
    "with open(dirty_log_file, 'r') as file:\n",
    "    lines = file.readlines()\n",
    "\n",
    "def process_line(line):\n",
    "    # Match and capture everything after 'D:' or 'I:'\n",
    "    match = re.search(r'[DI]:\\s*(.*)', line)\n",
    "    if match:\n",
    "        return match.group(1).strip()  # Return the captured group, stripped of leading/trailing whitespace\n",
    "    return line.strip()  # If no match, return the line as is\n",
    "\n",
    "current_suite = None\n",
    "current_module = None\n",
    "current_test = None\n",
    "ans = None\n",
    "suites = []\n",
    "inbetween = []\n",
    "failures = []\n",
    "to_retrieve = []\n",
    "log = []\n",
    "previous_line = None  # Initialize previous_line variable\n",
    "suite_test_cases = {}  # Dictionary to store suite name as key and failed/error test cases as values\n",
    "\n",
    "with open(log_file_path, 'w') as output_file:\n",
    "    for line in lines:\n",
    "        line = process_line(line)\n",
    "\n",
    "        # Check for suite start\n",
    "        suite_match = re.search(r'Entering suite: (\\w+)', line)\n",
    "        if suite_match:\n",
    "            current_suite = suite_match.group(1)\n",
    "            suites.append(current_suite)\n",
    "            suite_test_cases[current_suite] = []  # Initialize list for test cases\n",
    "            continue\n",
    "\n",
    "        # Check for module start\n",
    "        module_match = re.search(r' Execute module', line)\n",
    "        if module_match:\n",
    "            current_module = module_match.group(1)\n",
    "            continue\n",
    "\n",
    "        # Check for test start\n",
    "        test_start_match = re.search(r'Running test: (\\w+)', line)\n",
    "        if test_start_match:\n",
    "            current_test = test_start_match.group(1)\n",
    "            continue\n",
    "\n",
    "        # Check for test outcome\n",
    "        test_outcome_match = re.search(r'test outcome\\s*:\\s*(\\w+)', line, re.IGNORECASE)\n",
    "        if test_outcome_match:\n",
    "            result = test_outcome_match.group(1).lower()\n",
    "            if result in ['failed', 'error']:\n",
    "                if current_suite and current_test:\n",
    "                    suite_test_cases[current_suite].append(current_test)\n",
    "                    for line in inbetween:\n",
    "                        output_file.write(line + '\\n')\n",
    "                    log.append(inbetween)\n",
    "                    inbetween.clear()\n",
    "            current_test = None  # Reset current test\n",
    "            continue\n",
    "\n",
    "        # Check for failure\n",
    "        failure_match = re.search(r'(failed)', line, re.IGNORECASE)\n",
    "        if failure_match:\n",
    "            if current_suite and current_module:\n",
    "                failures.append((suite_match, module_match, line.strip()))\n",
    "\n",
    "        # Check for the end of the suite and the result\n",
    "        if current_suite:\n",
    "            suite_end_match = re.search(r'^Suite', line)\n",
    "            if suite_end_match:\n",
    "                result, suite = line.split(\" \")[-1], line.split(\" \")[-2]\n",
    "                suite_end_match = None\n",
    "                if result == 'failed' or result == 'error':\n",
    "                    to_retrieve.append(suite[:-1])\n",
    "                    # for line in inbetween:\n",
    "                    #     output_file.write(line + '\\n')\n",
    "                    # log.append(inbetween)\n",
    "                    suites.remove(suite[:-1])\n",
    "                else:\n",
    "                    suites.remove(suite[:-1])\n",
    "            if len(suites) == 0:\n",
    "                inbetween.clear()\n",
    "\n",
    "        # Check if the current line is the same as the previous line\n",
    "        if line != previous_line:\n",
    "            inbetween.append(line)\n",
    "        previous_line = line  # Update previous_line\n",
    "\n",
    "# Filter out suites with no failed/error test cases\n",
    "suite_test_cases = {\n",
    "    suite: list(set(test_cases))  # Convert to set and back to list to ensure uniqueness\n",
    "    for suite, test_cases in suite_test_cases.items()\n",
    "    if test_cases  # Ensure the test_cases list is not empty\n",
    "}\n",
    "\n",
    "\n",
    "print(suite_test_cases)\n"
   ]
  },
  {
   "cell_type": "code",
   "execution_count": null,
   "id": "92e7d33a-bcc9-4489-be73-8c18aa178706",
   "metadata": {},
   "outputs": [],
   "source": []
  }
 ],
 "metadata": {
  "kernelspec": {
   "display_name": "Python 3 (ipykernel)",
   "language": "python",
   "name": "python3"
  },
  "language_info": {
   "codemirror_mode": {
    "name": "ipython",
    "version": 3
   },
   "file_extension": ".py",
   "mimetype": "text/x-python",
   "name": "python",
   "nbconvert_exporter": "python",
   "pygments_lexer": "ipython3",
   "version": "3.12.7"
  }
 },
 "nbformat": 4,
 "nbformat_minor": 5
}
